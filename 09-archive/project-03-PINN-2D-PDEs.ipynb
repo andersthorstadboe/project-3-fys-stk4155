{
 "cells": [
  {
   "cell_type": "markdown",
   "metadata": {},
   "source": [
    "# Project 3 - Solving Linear PDE's using Physics Informed Neural Networks (PINNs)\n",
    "## Introduction\n",
    "This notebook runs an implementation of a Physics Informed Neural Network that solve the unsteady diffusion equation and wave equation on a two-dimensional spatial domain. <br />\n",
    "\n",
    "The implementation is based on ...\n",
    "\n",
    "### PDE's\n",
    "The diffusion equation:\n",
    "$$\n",
    "\\frac{\\partial u}{\\partial t} - \\nabla\\cdot(D\\nabla u) = f(t,\\boldsymbol{x})\n",
    "$$\n",
    "with $D$ as a constant diffusion coefficient, and $f(t,\\boldsymbol{x})$ as a source term\n",
    "\n",
    "\n",
    "\n",
    "The wave equation:\n",
    "$$\n",
    "\\frac{\\partial^{2} u}{\\partial t^{2}} - c^{2}\\nabla^{2}u = f(t,\\boldsymbol{x})\n",
    "$$"
   ]
  }
 ],
 "metadata": {
  "language_info": {
   "name": "python"
  }
 },
 "nbformat": 4,
 "nbformat_minor": 2
}
