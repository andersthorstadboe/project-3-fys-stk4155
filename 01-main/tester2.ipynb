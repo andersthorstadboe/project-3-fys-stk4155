{
 "cells": [
  {
   "cell_type": "code",
   "execution_count": 24,
   "metadata": {},
   "outputs": [
    {
     "name": "stdout",
     "output_type": "stream",
     "text": [
      "3\n",
      "4\n",
      "(100, 3)\n",
      "(25, 101)\n",
      "(4, 26)\n",
      "(1, 5)\n"
     ]
    }
   ],
   "source": [
    "import autograd.numpy as np\n",
    "\n",
    "layers_sizes = [100,25,4]\n",
    "\n",
    "n_hidden = np.size(layers_sizes)\n",
    "print(n_hidden)\n",
    "\n",
    "P = [None]*(n_hidden + 1)\n",
    "print(len(P))\n",
    " \n",
    "P[0] = np.random.randn(layers_sizes[0], 2 + 1 ) # 2 since we have two points, +1 to include bias\n",
    "#print(P[0])\n",
    "for l in range(1,n_hidden):\n",
    "    P[l] = np.random.randn(layers_sizes[l], layers_sizes[l-1] + 1) # +1 to include bias\n",
    "\n",
    "P[-1] = np.random.randn(1,layers_sizes[-1]+1)\n",
    "#print(P[-1])\n",
    "\n",
    "for i in range(len(P)):\n",
    "    print(P[i].shape)"
   ]
  },
  {
   "cell_type": "code",
   "execution_count": 30,
   "metadata": {},
   "outputs": [
    {
     "name": "stdout",
     "output_type": "stream",
     "text": [
      "[[1.]\n",
      " [4.]\n",
      " [3.]]\n",
      "[0. 1.]\n",
      "[0.]\n"
     ]
    }
   ],
   "source": [
    "num_points = 1; x_prev = [[4],[3]]\n",
    "\n",
    "x_prev = np.concatenate((np.ones((1,num_points)), x_prev ), axis = 0)\n",
    "print(x_prev)\n",
    "\n",
    "a = np.linspace(0,1,2)\n",
    "print(a)\n",
    "print(a[:-1])"
   ]
  }
 ],
 "metadata": {
  "kernelspec": {
   "display_name": "p3-venv",
   "language": "python",
   "name": "python3"
  },
  "language_info": {
   "codemirror_mode": {
    "name": "ipython",
    "version": 3
   },
   "file_extension": ".py",
   "mimetype": "text/x-python",
   "name": "python",
   "nbconvert_exporter": "python",
   "pygments_lexer": "ipython3",
   "version": "3.12.3"
  }
 },
 "nbformat": 4,
 "nbformat_minor": 2
}
