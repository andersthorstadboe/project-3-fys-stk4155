{
 "cells": [
  {
   "cell_type": "markdown",
   "metadata": {},
   "source": [
    "# Project 3 - Solving PDEs using Physics Informed Neural Networks (PINNs)\n",
    "## Model Convergence Analysis\n",
    "This notebook analyzes how the prediction of the network changes with the width and number of training points of the network. \n",
    "\n",
    "For this implementation this means;\n",
    "1. Increasing the width, i.e. number of neurons in a shallow version of the network, or;\n",
    "2. Increasing the collocation points available\n",
    "\n",
    "The notebook performs two separate analysis, starting with the width-analysis. \n",
    "\n",
    "#### Notebook initial imports and defaults"
   ]
  },
  {
   "cell_type": "code",
   "execution_count": 1,
   "metadata": {},
   "outputs": [
    {
     "name": "stderr",
     "output_type": "stream",
     "text": [
      "2024-12-09 19:37:50.107353: I tensorflow/core/util/port.cc:153] oneDNN custom operations are on. You may see slightly different numerical results due to floating-point round-off errors from different computation orders. To turn them off, set the environment variable `TF_ENABLE_ONEDNN_OPTS=0`.\n",
      "2024-12-09 19:37:50.118007: E external/local_xla/xla/stream_executor/cuda/cuda_fft.cc:477] Unable to register cuFFT factory: Attempting to register factory for plugin cuFFT when one has already been registered\n",
      "WARNING: All log messages before absl::InitializeLog() is called are written to STDERR\n",
      "E0000 00:00:1733769470.130447  142903 cuda_dnn.cc:8310] Unable to register cuDNN factory: Attempting to register factory for plugin cuDNN when one has already been registered\n",
      "E0000 00:00:1733769470.133966  142903 cuda_blas.cc:1418] Unable to register cuBLAS factory: Attempting to register factory for plugin cuBLAS when one has already been registered\n",
      "2024-12-09 19:37:50.146265: I tensorflow/core/platform/cpu_feature_guard.cc:210] This TensorFlow binary is optimized to use available CPU instructions in performance-critical operations.\n",
      "To enable the following instructions: AVX2 AVX_VNNI FMA, in other operations, rebuild TensorFlow with the appropriate compiler flags.\n"
     ]
    }
   ],
   "source": [
    "from networkFlowTorch import *\n",
    "from PDEq import *\n",
    "from support import *\n",
    "\n",
    "from time import time\n",
    "\n",
    "import autograd.numpy as anp\n",
    "import numpy as np\n",
    "\n",
    "import matplotlib.pyplot as plt\n",
    "import seaborn as sns\n",
    "\n",
    "#from autograd import grad, elementwise_grad\n",
    "#from sklearn.metrics import r2_score\n",
    "\n",
    "## Random seed\n",
    "default_seed = 15; anp.random.seed(default_seed)\n",
    "\n",
    "## Figure defaults\n",
    "plt.rcParams[\"figure.figsize\"] = (5,5); plt.rcParams[\"font.size\"] = 10"
   ]
  },
  {
   "cell_type": "markdown",
   "metadata": {},
   "source": [
    "### Problem setup"
   ]
  },
  {
   "cell_type": "code",
   "execution_count": 2,
   "metadata": {},
   "outputs": [
    {
     "name": "stderr",
     "output_type": "stream",
     "text": [
      "2024-12-09 19:38:10.281047: E external/local_xla/xla/stream_executor/cuda/cuda_driver.cc:152] failed call to cuInit: INTERNAL: CUDA error: Failed call to cuInit: UNKNOWN ERROR (303)\n"
     ]
    }
   ],
   "source": [
    "## Differential equations\n",
    "test_cases = ['diff1d','wave1d','wave2d','diff2d']\n",
    "test = test_cases[1]\n",
    "\n",
    "## Coefficients\n",
    "c,D,amplitude = 1.,1.,1.\n",
    "\n",
    "if test == 'diff1d':\n",
    "    PDE = Diffusion1D(sim_type='flow',amp=amplitude,D=D)\n",
    "    t0,tN,x0,xN = 0,1,0,1\n",
    "elif test == 'wave1d':\n",
    "    PDE = Wave1D(sim_type='flow',amp=amplitude,c=c)\n",
    "    t0,tN,x0,xN = 0,1,-1,1\n",
    "elif test == 'wave2d':\n",
    "    PDE = Wave2D(sim_type='flow',amp=amplitude,c=c)\n",
    "    t0,tN = 0,1\n",
    "    x0,xN,y0,yN = -1,1,-1,1\n",
    "elif test == 'diff2d':\n",
    "    PDE = Diffusion2D(sim_type='flow',amp=amplitude,D=D)\n",
    "    t0,tN = 0,1\n",
    "    x0,xN,y0,yN = 0,1,0,1\n",
    "\n",
    "## Defining the source function (necessary?)\n",
    "f = PDE.right_hand_side\n",
    "\n",
    "## Domain setup\n",
    "Nt,Nx,Ny = 100,100,100\n",
    "\n",
    "t_bound = [t0,tN]\n",
    "x_bound = [x0,xN]\n",
    "\n",
    "\n",
    "t = np.linspace(t_bound[0],t_bound[1],Nt)\n",
    "x = np.linspace(x_bound[0],x_bound[1],Nx)\n",
    "\n",
    "if test == 'wave2d' or test == 'diff2d':\n",
    "    y_bound = [y0,yN]\n",
    "    y = np.linspace(y_bound[0],y_bound[1],Ny)\n",
    "    domain_array = np.array([t,x,y])\n",
    "else:\n",
    "    domain_array = np.array([t,x])"
   ]
  },
  {
   "cell_type": "markdown",
   "metadata": {},
   "source": [
    "### Increasing layer size"
   ]
  },
  {
   "cell_type": "code",
   "execution_count": null,
   "metadata": {},
   "outputs": [
    {
     "name": "stdout",
     "output_type": "stream",
     "text": [
      "Layer size: 10\n",
      "Final cost = 7.22268e-03\n",
      "Layer size: 50\n",
      "Final cost = 8.18558e-03\n",
      "Layer size: 250\n",
      "Final cost = 9.37567e-03\n",
      "Layer size: 1250\n",
      "Final cost = 1.08380e-02\n",
      "Layer size: 6250\n",
      "Final cost = 1.21917e-02\n"
     ]
    }
   ],
   "source": [
    "## Collocation tensor parameters\n",
    "c_points = 2000; b_points = 50; i_points = 50\n",
    "\n",
    "## Gradient descent method, regularizer and learning rate\n",
    "gd_method = 'adam'\n",
    "epoch = 1000\n",
    "eta = 1e-1\n",
    "lmbda = 1e-8\n",
    "\n",
    "## Activation functions\n",
    "hidden_func = 'gelu' # sigmoid, relu, elu, leaky_relu, tanh, swish, gelu, hard_sigmoid, exponential\n",
    "act_funcs = []\n",
    "act_funcs.append(hidden_func)\n",
    "## Output layer activation function set to identity\n",
    "act_funcs.append(None)\n",
    "\n",
    "cost = []\n",
    "\n",
    "layer_size = 10\n",
    "for i in range(5):\n",
    "    print('Layer size:',layer_size)\n",
    "    layer_out_sizes = [layer_size,1]\n",
    "\n",
    "    if test == 'wave2d' or test == 'diff2d':\n",
    "            TFNetwork = FFNNetworkFlow2D(layer_output_size=layer_out_sizes,\n",
    "                           activation_functions=act_funcs,\n",
    "                           PDE=PDE,\n",
    "                           source_function=f,\n",
    "                           domain_array=domain_array,\n",
    "                           domain=[x_bound,y_bound],\n",
    "                           gd_method=gd_method,\n",
    "                           learning_rate=eta)\n",
    "\n",
    "            ## Setup of collocation tensor\n",
    "            TFNetwork.collocation_setup(bounds=(t_bound,x_bound,y_bound), colloc_points=c_points,\n",
    "                            bound_points=b_points, init_points=i_points)\n",
    "    else:\n",
    "        TFNetwork = FFNNetworkFlow(layer_output_size=layer_out_sizes,\n",
    "                                activation_functions=act_funcs,\n",
    "                                PDE=PDE,\n",
    "                                source_function=f,\n",
    "                                domain_array=domain_array,\n",
    "                                domain=x_bound,\n",
    "                                gd_method=gd_method,\n",
    "                                learning_rate=eta)\n",
    "\n",
    "        ## Setup of collocation tensor\n",
    "        TFNetwork.collocation_setup(bounds=(x_bound,t_bound), colloc_points=c_points,\n",
    "                                    bound_points=b_points, init_points=i_points,\n",
    "                                    plot_colloc=False)\n",
    "\n",
    "    TFNetwork.create_layers(lmbda=lmbda)\n",
    "\n",
    "    TFNetwork.train_network(epochs=epoch)\n",
    "\n",
    "    cost.append(TFNetwork.cost_history[-1])\n",
    "\n",
    "    layer_size = layer_size*5"
   ]
  },
  {
   "cell_type": "code",
   "execution_count": 9,
   "metadata": {},
   "outputs": [
    {
     "data": {
      "text/plain": [
       "[<matplotlib.lines.Line2D at 0x72f939b639e0>]"
      ]
     },
     "execution_count": 9,
     "metadata": {},
     "output_type": "execute_result"
    },
    {
     "data": {
      "image/png": "[encoded data removed]",
      "text/plain": [
       "<Figure size 500x500 with 1 Axes>"
      ]
     },
     "metadata": {},
     "output_type": "display_data"
    }
   ],
   "source": [
    "h = [10,50,250,1250,6250]\n",
    "\n",
    "plt.plot(h,cost)"
   ]
  },
  {
   "cell_type": "markdown",
   "metadata": {},
   "source": [
    "### Training point refinement"
   ]
  },
  {
   "cell_type": "code",
   "execution_count": 10,
   "metadata": {},
   "outputs": [
    {
     "name": "stdout",
     "output_type": "stream",
     "text": [
      "Training points: 10\n",
      "Final cost = 9.43538e-01\n",
      "Training points: 100\n",
      "Final cost = 1.61104e-02\n",
      "Training points: 1000\n",
      "Final cost = 7.96534e-03\n",
      "Training points: 10000\n",
      "Final cost = 3.24865e-03\n",
      "Training points: 100000\n",
      "Final cost = 9.46533e-03\n"
     ]
    }
   ],
   "source": [
    "## Gradient descent method, regularizer and learning rate\n",
    "gd_method = 'adam'\n",
    "epoch = 1000\n",
    "eta = 1e-1\n",
    "lmbda = 1e-8\n",
    "\n",
    "## Activation functions\n",
    "layer_size = 20\n",
    "layer_out_sizes = [layer_size,layer_size,layer_size,layer_size,1]\n",
    "hidden_func = 'gelu' # sigmoid, relu, elu, leaky_relu, tanh, swish, gelu, hard_sigmoid, exponential\n",
    "act_funcs = []\n",
    "for _ in range(len(layer_out_sizes)-1):\n",
    "    act_funcs.append(hidden_func)\n",
    "\n",
    "## Output layer activation function set to identity\n",
    "act_funcs.append(None)   \n",
    "\n",
    "cost = []\n",
    "## Collocation tensor parameters\n",
    "b_points = 100; i_points = 100\n",
    "c_points = 10\n",
    "for i in range(5):\n",
    "    print('Training points:',c_points)\n",
    "\n",
    "    if test == 'wave2d' or test == 'diff2d':\n",
    "        TFNetwork = FFNNetworkFlow2D(layer_output_size=layer_out_sizes,\n",
    "                                activation_functions=act_funcs,\n",
    "                                PDE=PDE,\n",
    "                                source_function=f,\n",
    "                                domain_array=domain_array,\n",
    "                                domain=[x_bound,y_bound],\n",
    "                                gd_method=gd_method,\n",
    "                                learning_rate=eta)\n",
    "        ## Setup of collocation tensor\n",
    "        TFNetwork.collocation_setup(bounds=(t_bound,x_bound,y_bound), colloc_points=c_points,\n",
    "                            bound_points=b_points, init_points=i_points)\n",
    "    \n",
    "    else:\n",
    "        TFNetwork = FFNNetworkFlow(layer_output_size=layer_out_sizes,\n",
    "                                activation_functions=act_funcs,\n",
    "                                PDE=PDE,\n",
    "                                source_function=f,\n",
    "                                domain_array=domain_array,\n",
    "                                domain=x_bound,\n",
    "                                gd_method=gd_method,\n",
    "                                learning_rate=eta)\n",
    "        ## Setup of collocation tensor\n",
    "        TFNetwork.collocation_setup(bounds=(x_bound,t_bound), colloc_points=c_points,\n",
    "                                    bound_points=b_points, init_points=i_points,\n",
    "                                    plot_colloc=False)\n",
    "\n",
    "    TFNetwork.create_layers(lmbda=lmbda)\n",
    "\n",
    "    TFNetwork.train_network(epochs=epoch)\n",
    "\n",
    "    cost.append(TFNetwork.cost_history[-1])\n",
    "\n",
    "    c_points = c_points*10"
   ]
  },
  {
   "cell_type": "code",
   "execution_count": 12,
   "metadata": {},
   "outputs": [
    {
     "data": {
      "text/plain": [
       "[<matplotlib.lines.Line2D at 0x70f489777740>]"
      ]
     },
     "execution_count": 12,
     "metadata": {},
     "output_type": "execute_result"
    },
    {
     "data": {
      "image/png": "[encoded data removed]",
      "text/plain": [
       "<Figure size 500x500 with 1 Axes>"
      ]
     },
     "metadata": {},
     "output_type": "display_data"
    }
   ],
   "source": [
    "h = [10, 100, 1000, 10000, 100000]\n",
    "\n",
    "plt.loglog(h,cost)"
   ]
  },
  {
   "cell_type": "markdown",
   "metadata": {},
   "source": [
    "### Increasing Network depth"
   ]
  },
  {
   "cell_type": "code",
   "execution_count": 7,
   "metadata": {},
   "outputs": [
    {
     "name": "stdout",
     "output_type": "stream",
     "text": [
      "Layers: [20, 1]\n",
      "Final cost = 8.04158e-03\n",
      "Layers: [20, 20, 1]\n",
      "Final cost = 7.54104e-03\n",
      "Layers: [20, 20, 20, 1]\n",
      "Final cost = 5.69029e-03\n",
      "Layers: [20, 20, 20, 20, 1]\n",
      "Final cost = 6.84151e-03\n",
      "Layers: [20, 20, 20, 20, 20, 1]\n",
      "Final cost = 4.42956e-03\n",
      "Layers: [20, 20, 20, 20, 20, 20, 1]\n",
      "Final cost = 5.60413e-03\n",
      "Layers: [20, 20, 20, 20, 20, 20, 20, 1]\n",
      "Final cost = 7.96897e-03\n",
      "Layers: [20, 20, 20, 20, 20, 20, 20, 20, 1]\n",
      "Final cost = 1.10136e-02\n"
     ]
    }
   ],
   "source": [
    "## Collocation tensor parameters\n",
    "c_points = 2000; b_points = 50; i_points = 50\n",
    "\n",
    "## Gradient descent method, regularizer and learning rate\n",
    "gd_method = 'adagrad'\n",
    "epoch = 1000\n",
    "eta = 1e-1\n",
    "lmbda = 1e-8\n",
    "\n",
    "cost = []\n",
    "## Activation functions\n",
    "layer_out_sizes = [1]\n",
    "layer_size = 20\n",
    "for i in range(8):\n",
    "    layer_out_sizes = [layer_size] + layer_out_sizes\n",
    "    print('Layers:',layer_out_sizes)\n",
    "    hidden_func = 'gelu' # sigmoid, relu, elu, leaky_relu, tanh, swish, gelu, hard_sigmoid, exponential\n",
    "    act_funcs = []\n",
    "    for _ in range(len(layer_out_sizes)-1):\n",
    "        act_funcs.append(hidden_func)\n",
    "\n",
    "    ## Output layer activation function set to identity\n",
    "    act_funcs.append(None)\n",
    "\n",
    "    if test == 'wave2d' or test == 'diff2d':\n",
    "        TFNetwork = FFNNetworkFlow2D(layer_output_size=layer_out_sizes,\n",
    "                                    activation_functions=act_funcs,\n",
    "                                    PDE=PDE,\n",
    "                                    source_function=f,\n",
    "                                    domain_array=domain_array,\n",
    "                                    domain=[x_bound,y_bound],\n",
    "                                    gd_method=gd_method,\n",
    "                                    learning_rate=eta)\n",
    "        ## Setup of collocation tensor\n",
    "        TFNetwork.collocation_setup(bounds=(t_bound,x_bound,y_bound), colloc_points=c_points,\n",
    "                                bound_points=b_points, init_points=i_points)\n",
    "    else:\n",
    "        TFNetwork = FFNNetworkFlow(layer_output_size=layer_out_sizes,\n",
    "                                    activation_functions=act_funcs,\n",
    "                                    PDE=PDE,\n",
    "                                    source_function=f,\n",
    "                                    domain_array=domain_array,\n",
    "                                    domain=x_bound,\n",
    "                                    gd_method=gd_method,\n",
    "                                    learning_rate=eta)\n",
    "        ## Setup of collocation tensor\n",
    "        TFNetwork.collocation_setup(bounds=(x_bound,t_bound), colloc_points=c_points,\n",
    "                                    bound_points=b_points, init_points=i_points,\n",
    "                                    plot_colloc=False)\n",
    "            \n",
    "\n",
    "    TFNetwork.create_layers(lmbda=lmbda)\n",
    "\n",
    "    TFNetwork.train_network(epochs=epoch)\n",
    "\n",
    "    cost.append(TFNetwork.cost_history[-1])"
   ]
  },
  {
   "cell_type": "code",
   "execution_count": 9,
   "metadata": {},
   "outputs": [
    {
     "data": {
      "text/plain": [
       "[<matplotlib.lines.Line2D at 0x70f4950634d0>]"
      ]
     },
     "execution_count": 9,
     "metadata": {},
     "output_type": "execute_result"
    },
    {
     "data": {
      "image/png": "[encoded data removed]",
      "text/plain": [
       "<Figure size 500x500 with 1 Axes>"
      ]
     },
     "metadata": {},
     "output_type": "display_data"
    }
   ],
   "source": [
    "h = [1,2,3,4,5,6,7,8]\n",
    "\n",
    "plt.plot(h,cost)"
   ]
  }
 ],
 "metadata": {
  "kernelspec": {
   "display_name": "p3-venv",
   "language": "python",
   "name": "python3"
  },
  "language_info": {
   "codemirror_mode": {
    "name": "ipython",
    "version": 3
   },
   "file_extension": ".py",
   "mimetype": "text/x-python",
   "name": "python",
   "nbconvert_exporter": "python",
   "pygments_lexer": "ipython3",
   "version": "3.12.3"
  }
 },
 "nbformat": 4,
 "nbformat_minor": 2
}
