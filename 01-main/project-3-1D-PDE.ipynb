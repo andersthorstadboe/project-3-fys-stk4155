{
 "cells": [
  {
   "cell_type": "markdown",
   "metadata": {},
   "source": [
    "# Project 3 - Solving Linear PDE's using Physics Informed Neural Network (PINN)\n",
    "## The differential equations\n",
    "### Diffusion equation\n",
    "$$\\frac{\\partial u}{\\partial t} - D\\frac{\\partial^{2}}{\\partial x^{2}} = f(t,x) $$\n",
    "with $D$ as the diffusion coefficient, and $f(t,x)$ as a generic source function. \n",
    "\n",
    "### Burgers equation\n",
    "$$ \\frac{\\partial u}{\\partial t} + u \\frac{\\partial u}{\\partial x} - \\mu\\frac{\\partial^{2} u}{\\partial x^{2}} = f(t,x) $$\n",
    "Here, $\\mu$ denotes the viscosity of the system.\n",
    "\n",
    "### Wave equation\n",
    "$$\\frac{\\partial^{2} u}{\\partial t^{2}} - c^{2}\\frac{\\partial^{2} u}{\\partial x^{2}} = f(t,x) $$\n",
    "with $c$ denoting the wave speed.\n",
    "\n",
    "## Solutions to PDE's using a PINN\n",
    "This part solves the equations below using two PINN-implementations.<br />\n",
    "\n",
    "The first is an implementation uses Autograd's differentiation method...  using a method defining a trial function...<br />\n",
    "\n",
    "The second implementation uses TensorFlow's Keras-API to build out the network and perform the feed-forward and backpropagation part, and is based on an implementation by ... ([PINNs-TF2](https://github.com/pierremtb/PINNs-TF2.0?tab=readme-ov-file)). This uses...\n",
    "\n",
    "Based on implementation from ... \n",
    "\n",
    "#### Program imports and defaults"
   ]
  },
  {
   "cell_type": "code",
   "execution_count": null,
   "metadata": {},
   "outputs": [],
   "source": [
    "from PDEq import *\n",
    "from support import *\n",
    "from network import *\n",
    "from networkFlowTorch import *\n",
    "\n",
    "from time import time\n",
    "\n",
    "import autograd.numpy as anp\n",
    "from autograd import elementwise_grad\n",
    "\n",
    "import matplotlib.pyplot as plt\n",
    "import seaborn as sns\n",
    "\n",
    "from sklearn.model_selection import train_test_split, KFold, GridSearchCV, RandomizedSearchCV\n",
    "from sklearn.preprocessing import StandardScaler\n",
    "\n",
    "## Random seed\n",
    "default_seed = 15; anp.random.seed(default_seed)\n",
    "\n",
    "## Figure defaults\n",
    "plt.rcParams[\"figure.figsize\"] = (8,3); plt.rcParams[\"font.size\"] = 10\n"
   ]
  },
  {
   "cell_type": "markdown",
   "metadata": {},
   "source": [
    "## Problem setup"
   ]
  },
  {
   "cell_type": "code",
   "execution_count": null,
   "metadata": {},
   "outputs": [],
   "source": [
    "## Differential equations\n",
    "test_cases = ['diff1d','burgers1d','wave1d']\n",
    "test = test_cases[2]\n",
    "\n",
    "## Coefficients\n",
    "c,D,amplitude = 1.,1.,1.\n",
    "\n",
    "if test == 'diff1d':\n",
    "    PDE = Diffusion1D(sim_type='own',amp=amplitude,D=D)\n",
    "    PDE_tf = Diffusion1D(sim_type='flow',amp=amplitude,D=D)\n",
    "    t0,tN,x0,xN = 0,1,0,1\n",
    "elif test == 'burgers1d':\n",
    "    PDE = Burger1D(sim_type='own')\n",
    "    PDE_tf = Burger1D(sim_type='flow')\n",
    "    t0,tN,x0,xN = 0,1,-1,1\n",
    "elif test == 'wave1d':\n",
    "    PDE = Wave1D(sim_type='own',amp=amplitude,c=c)\n",
    "    PDE_tf = Wave1D(sim_type='flow',amp=amplitude,c=c)\n",
    "    t0,tN,x0,xN = 0,1,-1,1\n",
    "\n",
    "## Defining the source function (necessary?)\n",
    "f    = PDE.right_hand_side\n",
    "f_tf = PDE_tf.right_hand_side\n",
    "\n",
    "## Domain setup\n",
    "Nt,Nx = 10,10\n",
    "\n",
    "t_bound = [t0,tN]\n",
    "x_bound = [x0,xN]\n",
    "\n",
    "t = np.linspace(t_bound[0],t_bound[1],Nt)\n",
    "x = np.linspace(x_bound[0],x_bound[1],Nx)\n",
    "        \n",
    "domain_array = np.array([t,x])"
   ]
  },
  {
   "cell_type": "markdown",
   "metadata": {},
   "source": [
    "### Network configuration"
   ]
  },
  {
   "cell_type": "code",
   "execution_count": null,
   "metadata": {},
   "outputs": [],
   "source": [
    "## Layer configuration\n",
    "layer_out_sizes = [20,20,20,20,20,20,1]\n",
    "#layer_out_sizes = [20,20,20,1]\n",
    "\n",
    "## Activation functions\n",
    "hidden_func_tf = 'tanh' # sigmoid, relu, elu, leaky_relu, tanh, swish, gelu, hard_sigmoid, exponential\n",
    "hidden_func = tanh\n",
    "hidden_der = elementwise_grad(hidden_func,0)\n",
    "\n",
    "act_funcs_tf = []; act_funcs = []; act_ders = []\n",
    "for i in range(len(layer_out_sizes)-1):\n",
    "    act_funcs_tf.append(hidden_func_tf)\n",
    "    act_funcs.append(hidden_func)\n",
    "    act_ders.append(hidden_der)\n",
    "\n",
    "## Output layer activation function set to identity\n",
    "act_funcs_tf.append(None); \n",
    "\n",
    "act_funcs.append(identity); \n",
    "output_der = identity #elementwise_grad(act_funcs[-1],0);\n",
    "act_ders.append(output_der)"
   ]
  },
  {
   "cell_type": "markdown",
   "metadata": {},
   "source": [
    "## Network setup using the TensorFlow-implementation"
   ]
  },
  {
   "cell_type": "code",
   "execution_count": null,
   "metadata": {},
   "outputs": [],
   "source": [
    "## Gradient descent method, regularizer and learning rate\n",
    "lmbda_tf = 1e-2\n",
    "gd_method_tf = 'adam'\n",
    "eta_tf = 1e-2 # None\n",
    "tf_epoch = 100\n",
    "\n",
    "## Collocation tensor parameters\n",
    "c_points = 10000; b_points = 100; i_points = 100\n",
    "\n",
    "## Network initializtion\n",
    "TFNetwork = FFNNetworkFlow(layer_output_size=layer_out_sizes,\n",
    "                           activation_functions=act_funcs_tf,\n",
    "                           PDE=PDE_tf,\n",
    "                           source_function=f_tf,\n",
    "                           domain_array=domain_array,\n",
    "                           domain=x_bound,\n",
    "                           gd_method=gd_method_tf,\n",
    "                           learning_rate=eta_tf)\n",
    "\n",
    "## Setup of collocation tensor\n",
    "TFNetwork.collocation_setup(bounds=(x_bound,t_bound), colloc_points=c_points,\n",
    "                            bound_points=b_points, init_points=i_points)\n",
    "TFNetwork.create_layers(lmbda=lmbda_tf)"
   ]
  },
  {
   "cell_type": "markdown",
   "metadata": {},
   "source": [
    "### Network setup using `FFNNetwork`-class"
   ]
  },
  {
   "cell_type": "code",
   "execution_count": null,
   "metadata": {},
   "outputs": [],
   "source": [
    "## Gradient descent method, regularizer and learning rate\n",
    "eta = [eta_tf if eta_tf is not None else 1e-4]\n",
    "lmbda = lmbda_tf\n",
    "epoch = tf_epoch #100\n",
    "gd_method = ADAM(learning_rate=eta,lmbda=lmbda)\n",
    "\n",
    "## Network initializtion\n",
    "OwnNetwork = FFNNetwork(layer_output_size=layer_out_sizes,\n",
    "                        activation_functions=act_funcs,\n",
    "                        activation_derivatives=act_ders,\n",
    "                        PDE=PDE,\n",
    "                        source_function=f,\n",
    "                        domain_array=domain_array,\n",
    "                        domain=x_bound,\n",
    "                        random_state=default_seed)"
   ]
  },
  {
   "cell_type": "markdown",
   "metadata": {},
   "source": [
    "### Training the networks"
   ]
  },
  {
   "cell_type": "code",
   "execution_count": null,
   "metadata": {},
   "outputs": [],
   "source": [
    "epoch = epoch\n",
    "tf_epoch = tf_epoch\n",
    "\n",
    "own_net_timer = [time()]\n",
    "P = OwnNetwork.train_network(GDMethod=gd_method,learn_rate=eta,epochs=epoch)\n",
    "own_net_timer.append(time())\n",
    "\n",
    "\n",
    "tf_net_timer = [time()]\n",
    "TFNetwork.train_network(epochs=tf_epoch)\n",
    "tf_net_timer.append(time())\n",
    "\n",
    "print('Plain PINN-solver time     : %.2f sec.' %(own_net_timer[1]-own_net_timer[0]))\n",
    "print('TensorFlow PINN-solver time: %.2f sec.' %(tf_net_timer[1]-tf_net_timer[0]))"
   ]
  },
  {
   "cell_type": "markdown",
   "metadata": {},
   "source": [
    "### Plotting results from networks\n",
    "#### Plain implementation"
   ]
  },
  {
   "cell_type": "code",
   "execution_count": null,
   "metadata": {},
   "outputs": [],
   "source": [
    "f_names = [str(test)+'_own_network.png',str(test)+'_analytic.png',str(test)+'_difference.png']\n",
    "OwnNetwork.plot_result(save=False)"
   ]
  },
  {
   "cell_type": "markdown",
   "metadata": {},
   "source": [
    "#### TensorFlow implementation"
   ]
  },
  {
   "cell_type": "code",
   "execution_count": null,
   "metadata": {},
   "outputs": [],
   "source": [
    "f_names = [str(test)+'_tf_network.png',str(test)+'_analytic.png',str(test)+'_tf_difference.png']\n",
    "TFNetwork.plot_results(save=False,f_name=f_names)"
   ]
  },
  {
   "cell_type": "markdown",
   "metadata": {},
   "source": [
    "## Finite difference solutions\n",
    "This part solves the same PDE's using the _finite difference_ (FD)-method. The implementation is based on classes and methods from the lecture notes and exercises of the UiO-course _MAT-MEK4270 Numerical methods for partial differential equations_ ([MAT-MEK4270](https://matmek-4270.github.io/matmek4270-book/intro.html))"
   ]
  },
  {
   "cell_type": "code",
   "execution_count": null,
   "metadata": {},
   "outputs": [],
   "source": [
    "from FiniteDiff import *\n",
    "import sympy as sp\n",
    "\n",
    "x_s,t_s,c_s,L_s = sp.symbols('x, t, c, L')\n",
    "\n",
    "## Domain setup\n",
    "Nt,Nx = 10,10#Nt,Nx\n",
    "\n",
    "## Simulation and equation coefficients\n",
    "cfl = 0.01\n",
    "c,D,amplitude = 1., D, amplitude\n",
    "\n",
    "test='wave1d'\n",
    "if test == 'diff1d':\n",
    "    x_bound = [0,1]\n",
    "    bc = {'left': 0, 'right': 0}\n",
    "    u0 = amplitude * sp.sin(sp.pi*x_s/L_s)\n",
    "    fd_solver = Diffusion1DSolver(N=Nx,domain=x_bound,cfl=cfl,u0=u0,D=D)\n",
    "    \n",
    "elif test == 'wave1d':\n",
    "    x_bound = [-1,1]\n",
    "    bc = {'left': 0, 'right': 0}\n",
    "    u0 = amplitude * sp.sin(sp.pi*x_s/L_s)\n",
    "    fd_solver = Wave1DSolver(N=Nx,domain=x_bound,cfl=cfl,u0=u0,amp=amplitude,c=c)\n"
   ]
  },
  {
   "cell_type": "markdown",
   "metadata": {},
   "source": [
    "### Solving the equations with the FD-method"
   ]
  },
  {
   "cell_type": "code",
   "execution_count": null,
   "metadata": {},
   "outputs": [],
   "source": [
    "fd_timer = [time()]\n",
    "fd_solver.solver(tN=t_bound[1],cfl=cfl,bc=bc,ic=0)\n",
    "fd_solver.solver(tN=1,cfl=cfl,bc=bc,ic=0)\n",
    "\n",
    "fd_timer.append(time())\n",
    "\n",
    "print('FD-solver time: %.2f sec.' %(fd_timer[1]-fd_timer[0]))"
   ]
  },
  {
   "cell_type": "markdown",
   "metadata": {},
   "source": [
    "### Plotting FD - results"
   ]
  },
  {
   "cell_type": "code",
   "execution_count": null,
   "metadata": {},
   "outputs": [],
   "source": [
    "f_names = [str(test)+'_fd_solution.png',str(test)+'_analytic.png',str(test)+'_fd_difference.png']\n",
    "fd_solver.plot_result(tN=t_bound[1],save=False,f_name=f_names)"
   ]
  },
  {
   "cell_type": "markdown",
   "metadata": {},
   "source": [
    "### Comparison between the PINN and FD-methods"
   ]
  },
  {
   "cell_type": "code",
   "execution_count": null,
   "metadata": {},
   "outputs": [],
   "source": []
  }
 ],
 "metadata": {
  "kernelspec": {
   "display_name": "p3-venv",
   "language": "python",
   "name": "python3"
  },
  "language_info": {
   "codemirror_mode": {
    "name": "ipython",
    "version": 3
   },
   "file_extension": ".py",
   "mimetype": "text/x-python",
   "name": "python",
   "nbconvert_exporter": "python",
   "pygments_lexer": "ipython3",
   "version": "3.12.3"
  }
 },
 "nbformat": 4,
 "nbformat_minor": 2
}
